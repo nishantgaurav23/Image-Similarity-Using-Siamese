{
  "nbformat": 4,
  "nbformat_minor": 0,
  "metadata": {
    "colab": {
      "name": "Image_Similarity_Using_Siamese_With_Contrastive_Loss.ipynb",
      "provenance": [],
      "machine_shape": "hm",
      "authorship_tag": "ABX9TyM2Ubb7zAcPsEJlWfWmT5fk",
      "include_colab_link": true
    },
    "kernelspec": {
      "name": "python3",
      "display_name": "Python 3"
    },
    "language_info": {
      "name": "python"
    },
    "accelerator": "GPU"
  },
  "cells": [
    {
      "cell_type": "markdown",
      "metadata": {
        "id": "view-in-github",
        "colab_type": "text"
      },
      "source": [
        "<a href=\"https://colab.research.google.com/github/nishantgaurav23/Image-Similarity-Using-Siamese/blob/main/Image_Similarity_Using_Siamese_With_Contrastive_Loss.ipynb\" target=\"_parent\"><img src=\"https://colab.research.google.com/assets/colab-badge.svg\" alt=\"Open In Colab\"/></a>"
      ]
    },
    {
      "cell_type": "markdown",
      "source": [
        "### Introduction\n",
        "**Siamese Networks** are neural networks which share weights between two or more sister networks, each producing embedding vectors of its respective inputs.\n",
        "\n",
        "In supervised similarity learning, the network are then trained to maximize the contrast(distance) between embeddings of inputs of different classes, while minimizing the distance between embeddings of similar classes, resulting in embedding spaces that reflect the class segmentation of the training inputs."
      ],
      "metadata": {
        "id": "_d_HaJUiiuWn"
      }
    },
    {
      "cell_type": "markdown",
      "source": [
        "### Setup"
      ],
      "metadata": {
        "id": "jaDT-mITjuEU"
      }
    },
    {
      "cell_type": "code",
      "execution_count": 1,
      "metadata": {
        "id": "nMNF8peViBGF"
      },
      "outputs": [],
      "source": [
        "import random\n",
        "import numpy as np\n",
        "import tensorflow as tf\n",
        "from tensorflow import keras\n",
        "from tensorflow.keras import layers\n",
        "import matplotlib.pyplot as plt"
      ]
    },
    {
      "cell_type": "markdown",
      "source": [
        "### Hyperparameters"
      ],
      "metadata": {
        "id": "wzoXNeCJj8Fk"
      }
    },
    {
      "cell_type": "code",
      "source": [
        "epochs = 10\n",
        "batch_size = 16\n",
        "margin = 1 #Margin for contastive loss"
      ],
      "metadata": {
        "id": "yBBsegAUj6Kl"
      },
      "execution_count": 2,
      "outputs": []
    },
    {
      "cell_type": "markdown",
      "source": [
        "### Load the MNIST dataset"
      ],
      "metadata": {
        "id": "Xx4466oxkLSp"
      }
    },
    {
      "cell_type": "code",
      "source": [
        "(x_train_val, y_train_val), (x_test, y_test) = keras.datasets.mnist.load_data()\n",
        "\n",
        "#Change the data type to a floating point format\n",
        "x_train_val =  x_train_val.astype('float32')\n",
        "x_test = x_test.astype('float32')"
      ],
      "metadata": {
        "id": "a3FjN3-3kJzD"
      },
      "execution_count": 4,
      "outputs": []
    },
    {
      "cell_type": "markdown",
      "source": [
        "### Define training and validation sets"
      ],
      "metadata": {
        "id": "5Lz012TWktVS"
      }
    },
    {
      "cell_type": "code",
      "source": [
        "#Keep 50% for train_val in validation set\n",
        "x_train, x_val = x_train_val[:30000], x_train_val[30000:]\n",
        "y_train, y_val = y_train_val[:30000], y_train_val[30000:]\n",
        "\n",
        "del x_train_val, y_train_val"
      ],
      "metadata": {
        "id": "AYXUCldCksJr"
      },
      "execution_count": 5,
      "outputs": []
    },
    {
      "cell_type": "markdown",
      "source": [
        "### Create a pair of images\n",
        "We will train the model to differentiate between digits of different classes. For example, digit 0 needs to be differentiated from the rest of the digits (1 through 9), digit 1 - from 0 and 2 through 9 and so on.\n",
        "For this we select N random images from class A and pair them with N random images from another class B. Then we repeat the process for all classses of digits(until digit 9). Once we have paired digit 0 with other digits, we can repeat the process for the remaining classes for rest of the digit (from 1 until 9)"
      ],
      "metadata": {
        "id": "oGElnXrHlN4k"
      }
    },
    {
      "cell_type": "code",
      "source": [
        "def make_pairs(x, y):\n",
        "    \"\"\"Creates a tuple containing image pairs with corresponding label.\n",
        "\n",
        "    Arguments:\n",
        "        x: List containing images, each index in this list corresponds to one image.\n",
        "        y: List containing labels, each label with datatype of `int`.\n",
        "\n",
        "    Returns:\n",
        "        Tuple containing two numpy arrays as (pairs_of_samples, labels),\n",
        "        where pairs_of_samples' shape is (2len(x), 2,n_features_dims) and\n",
        "        labels are a binary array of shape (2len(x)).\n",
        "    \"\"\"\n",
        "\n",
        "    num_classes = max(y) + 1\n",
        "    digit_indices = [np.where(y == i)[0] for i in range(num_classes)]\n",
        "\n",
        "    pairs = []\n",
        "    labels = []\n",
        "\n",
        "    for idx1 in range(len(x)):\n",
        "        # add a matching example\n",
        "        x1 = x[idx1]\n",
        "        label1 = y[idx1]\n",
        "        idx2 = random.choice(digit_indices[label1])\n",
        "        x2 = x[idx2]\n",
        "\n",
        "        pairs += [[x1, x2]]\n",
        "        labels += [1]\n",
        "\n",
        "        # add a non-matching example\n",
        "        label2 = random.randint(0, num_classes - 1)\n",
        "        while label2 == label1:\n",
        "            label2 = random.randint(0, num_classes - 1)\n",
        "\n",
        "        idx2 = random.choice(digit_indices[label2])\n",
        "        x2 = x[idx2]\n",
        "\n",
        "        pairs += [[x1, x2]]\n",
        "        labels += [0]\n",
        "\n",
        "    return np.array(pairs), np.array(labels).astype(\"float32\")\n",
        "\n",
        "\n",
        "# make train pairs\n",
        "pairs_train, labels_train = make_pairs(x_train, y_train)\n",
        "\n",
        "# make validation pairs\n",
        "pairs_val, labels_val = make_pairs(x_val, y_val)\n",
        "\n",
        "# make test pairs\n",
        "pairs_test, labels_test = make_pairs(x_test, y_test)"
      ],
      "metadata": {
        "id": "Cn80ucttlJsT"
      },
      "execution_count": 6,
      "outputs": []
    },
    {
      "cell_type": "code",
      "source": [
        "print(pairs_train.shape)"
      ],
      "metadata": {
        "colab": {
          "base_uri": "https://localhost:8080/"
        },
        "id": "-XRWm-6CoEAr",
        "outputId": "48897e91-8a33-4e9d-d643-f473b2666e6b"
      },
      "execution_count": 7,
      "outputs": [
        {
          "output_type": "stream",
          "name": "stdout",
          "text": [
            "(60000, 2, 28, 28)\n"
          ]
        }
      ]
    },
    {
      "cell_type": "markdown",
      "source": [
        "**pairs_train_shape=(60000, 2, 28, 28)**\n",
        "* We have 60000 pairs\n",
        "* Each pair contains 2 images\n",
        "* Each image has shape (28, 28)"
      ],
      "metadata": {
        "id": "wGKX2l7eoMQV"
      }
    },
    {
      "cell_type": "markdown",
      "source": [
        "Split the training pairs"
      ],
      "metadata": {
        "id": "7qjVu4tZorI4"
      }
    },
    {
      "cell_type": "code",
      "source": [
        "x_train_1 = pairs_train[:, 0] # x_train_1.shape is (60000, 28, 28)\n",
        "x_train_2 = pairs_train[:, 1]"
      ],
      "metadata": {
        "id": "_fBCPha7oJaO"
      },
      "execution_count": 8,
      "outputs": []
    },
    {
      "cell_type": "markdown",
      "source": [
        "Split the validation pairs"
      ],
      "metadata": {
        "id": "iChtl_6oovpL"
      }
    },
    {
      "cell_type": "code",
      "source": [
        "x_val_1 = pairs_val[:, 0]\n",
        "x_val_2 = pairs_val[:, 1]"
      ],
      "metadata": {
        "id": "6Aq96mblol5w"
      },
      "execution_count": 9,
      "outputs": []
    },
    {
      "cell_type": "markdown",
      "source": [
        "Split the test pairs"
      ],
      "metadata": {
        "id": "cSHRZbXYo4ON"
      }
    },
    {
      "cell_type": "code",
      "source": [
        "x_test_1 = pairs_test[:, 0]\n",
        "x_test_2 = pairs_test[:, 1]"
      ],
      "metadata": {
        "id": "qpNjQiIso3Q_"
      },
      "execution_count": 10,
      "outputs": []
    },
    {
      "cell_type": "markdown",
      "source": [
        "### Visualize pairs and their labels"
      ],
      "metadata": {
        "id": "CSxFRR9dpCV7"
      }
    },
    {
      "cell_type": "code",
      "source": [
        "def visulize(pairs, labels, to_show=6, num_col=3, predictions=None, test=False):\n",
        "  \"\"\" Creates a plot of pairs and labels, prediction if its test dataset.\n",
        "  Arguments:\n",
        "      pairs: Numpy array, of pairs to visualize, having shape\n",
        "             (Number of pairs, 2, 28, 28).\n",
        "      to_show: Int, number of examples to visualize (default is 6)\n",
        "               'to_show` must be an integral multiple of `num_col`.\n",
        "               Otherwise it will be trimmed if it is greater than num_col,\n",
        "               and incrementd if it is less than num_col\n",
        "\n",
        "      num_col: Int, number of images in one row - (default is 3)\n",
        "               For test and train respectively, it should not exceed 3 and 7.\n",
        "\n",
        "      predictions: Numpy array of predictions with shape (to_show, 1) - (default is None)\n",
        "                  Must be passes with test=True\n",
        "\n",
        "      test: Boolean telling whether the dataset being visulzed is train dataset - default False\n",
        "\n",
        "  Returns:\n",
        "       None\n",
        "\n",
        "  \"\"\"\n",
        "\n",
        "  # Define num_row\n",
        "  # If to_show % num_col != 0\n",
        "  #   trim to_show,\n",
        "  #     to trin to_show limit num_col to the point where\n",
        "  #     to show % num_col == 0\n",
        "  #\n",
        "  # If to_show//num_col == 0\n",
        "  #   then it means num_col is greater then to_show\n",
        "  #   increment to_show\n",
        "  #     to increment to_show set num_row to 1\n",
        "\n",
        "  num_row = to_show // num_col if to_show // num_col != 0 else 1\n",
        "  # to show must be an integral multiple of `num_col`\n",
        "  # we found num_row and we have num_col\n",
        "  # to increment or decrement to_show\n",
        "  # to make it integral multiple of `num_col`\n",
        "  # simply set it equal to num_row * num_col\n",
        "  to_show = num_row * num_col\n",
        "\n",
        "  # Plot the images\n",
        "  fig, axes = plt.subplots(num_row, num_col, figsize=(5,5))\n",
        "  for i in range(to_show):\n",
        "    #  If the number of rows is 1, the axes array is one -dimensional\n",
        "    if num_row == 1:\n",
        "      ax = axes[i%num_col]\n",
        "    else:\n",
        "      ax = axes[i // num_col, i%num_col]\n",
        "\n",
        "    ax.imshow(tf.concat([pairs[i][0], pairs[i][1]], axis=1), cmap=\"gray\")\n",
        "    ax.set_axis_off()\n",
        "    if test:\n",
        "      ax.set_title(\"True: {} | Pred: {:.5f}\".format(labels[i], predictions[i][0]))\n",
        "    else:\n",
        "      ax.set_title(\"Label: {}\".format(labels[i]))\n",
        "\n",
        "  if test:\n",
        "    plt.tight_layout(rect=(0,0, 1.9, 1.9), w_pad=0.0)\n",
        "  else:\n",
        "    plt.tight_layout(rect=(0,0, 1.5, 1.5))\n",
        "\n",
        "  plt.show()\n",
        "    "
      ],
      "metadata": {
        "id": "f7hEfKrepBSl"
      },
      "execution_count": 11,
      "outputs": []
    },
    {
      "cell_type": "code",
      "source": [
        "visulize(pairs_train[:-1],labels_train[:-1], to_show=4, num_col=4)"
      ],
      "metadata": {
        "colab": {
          "base_uri": "https://localhost:8080/",
          "height": 108
        },
        "id": "OHZFbV5wr5VS",
        "outputId": "ba5d6b25-c90f-46df-ee6f-2574f94d4c1a"
      },
      "execution_count": 12,
      "outputs": [
        {
          "output_type": "display_data",
          "data": {
            "text/plain": [
              "<Figure size 360x360 with 4 Axes>"
            ],
            "image/png": "[encoded data removed]"
          },
          "metadata": {
            "needs_background": "light"
          }
        }
      ]
    },
    {
      "cell_type": "code",
      "source": [
        "visulize(pairs_val[:-1],labels_val[:-1], to_show=4, num_col=4)"
      ],
      "metadata": {
        "colab": {
          "base_uri": "https://localhost:8080/",
          "height": 108
        },
        "id": "cjI3QqQwtvkj",
        "outputId": "c0f2a227-ec0a-436b-b5a8-213c339627de"
      },
      "execution_count": 13,
      "outputs": [
        {
          "output_type": "display_data",
          "data": {
            "text/plain": [
              "<Figure size 360x360 with 4 Axes>"
            ],
            "image/png": "[encoded data removed]"
          },
          "metadata": {
            "needs_background": "light"
          }
        }
      ]
    },
    {
      "cell_type": "code",
      "source": [
        "visulize(pairs_test[:-1],labels_test[:-1], to_show=4, num_col=4)"
      ],
      "metadata": {
        "colab": {
          "base_uri": "https://localhost:8080/",
          "height": 108
        },
        "id": "dQJRiKRkt_qF",
        "outputId": "5030b244-d1e4-4480-8fb3-8e55e01a99e7"
      },
      "execution_count": 14,
      "outputs": [
        {
          "output_type": "display_data",
          "data": {
            "text/plain": [
              "<Figure size 360x360 with 4 Axes>"
            ],
            "image/png": "[encoded data removed]"
          },
          "metadata": {
            "needs_background": "light"
          }
        }
      ]
    },
    {
      "cell_type": "markdown",
      "source": [
        "### Define the model\n",
        "There are two input layers, each leading to its own network, which produces embeddings. A Lambda layer them merges them using euclidean distance and the merged output is fed to the final network."
      ],
      "metadata": {
        "id": "SpNqHqkMuoV7"
      }
    },
    {
      "cell_type": "code",
      "source": [
        "# Provide two tensors t1 and t2\n",
        "# Euclidean distance = sqrt(sum(squares(t1-t2)))\n",
        "\n",
        "def euclidean_distance(vects):\n",
        "  \"\"\"Find the Eucidean distance between two vectors.\n",
        "\n",
        "  Arguments:\n",
        "    vects: List contaning two tensors of same length\n",
        "\n",
        "  Returns:\n",
        "    Tensor containing euclidean distance\n",
        "    (as floating point value) between vectors\n",
        "  \"\"\"\n",
        "\n",
        "  x, y = vects\n",
        "  sum_square = tf.math.reduce_sum(tf.math.square(x - y), axis=1, keepdims=True)\n",
        "  return tf.math.sqrt(tf.math.maximum(sum_square, tf.keras.backend.epsilon()))\n",
        "\n",
        "input = layers.Input((28,28,1))\n",
        "x = tf.keras.layers.BatchNormalization()(input)\n",
        "x = layers.Conv2D(4, (5,5), activation=\"tanh\")(x)\n",
        "x = layers.AveragePooling2D(pool_size=(2,2))(x)\n",
        "x = layers.Conv2D(16, (5, 5), activation=\"tanh\")(x)\n",
        "x = layers.AveragePooling2D(pool_size=(2,2))(x)\n",
        "x = layers.Flatten()(x)\n",
        "\n",
        "x = tf.keras.layers.BatchNormalization()(x)\n",
        "x = layers.Dense(10, activation=\"tanh\")(x)\n",
        "embedding_network = keras.Model(input, x)\n",
        "\n",
        "\n",
        "input_1 = layers.Input((28,28,1))\n",
        "input_2 = layers.Input((28,28,1))\n",
        "\n",
        "# As mentioned above, Siamese Network share weights between\n",
        "# tower networks (sister networks). To allow this, we will use \n",
        "# same embedding network for both tower networks.\n",
        "\n",
        "tower_1 = embedding_network(input_1)\n",
        "tower_2 = embedding_network(input_2)\n",
        "\n",
        "merge_layer = layers.Lambda(euclidean_distance)([tower_1, tower_2])\n",
        "normal_layer = tf.keras.layers.BatchNormalization()(merge_layer)\n",
        "output_layer = layers.Dense(1, activation=\"sigmoid\")(normal_layer)\n",
        "siamese = keras.Model([input_1, input_2], outputs=output_layer)"
      ],
      "metadata": {
        "id": "J2SFrTQougy-"
      },
      "execution_count": 15,
      "outputs": []
    },
    {
      "cell_type": "markdown",
      "source": [
        "### Define the contastive loss"
      ],
      "metadata": {
        "id": "Ejfl1WthyYYp"
      }
    },
    {
      "cell_type": "code",
      "source": [
        "def loss(margin=1):\n",
        "  \"\"\"Provides 'contrastive_loss' an encoding scope with variable 'margin'.\n",
        "  Arguments:\n",
        "    margin: Integer, defines the baseline for distance for which pairs\n",
        "            should be classfied as dissimilar. - (default is 1)\n",
        "\n",
        "  Returns:\n",
        "    'contrastive loss' function with data ('margin') attached\n",
        "  \"\"\"\n",
        "  # Contrastive loss = mean( (1-true_value) * square(prediction) +\n",
        "  #                         true_value * square( max(margin-prediction, 0)))\n",
        "  def constrastive_loss(y_true, y_pred):\n",
        "    \"\"\"Calculate the constrastive loss.\n",
        "    Arguments:\n",
        "      y_true: List of labels, each labels is of type float32.\n",
        "      y_pred: List of predictions of same length as of y_true,\n",
        "              each label is of type float 32\n",
        "\n",
        "    Returns: \n",
        "      A tensors contaning constrastive loss as floating point value\n",
        "    \"\"\"\n",
        "    square_pred = tf.math.square(y_pred)\n",
        "    margin_square = tf.math.square(tf.math.maximum(margin - (y_pred), 0))\n",
        "    return tf.math.reduce_mean(\n",
        "        (1-y_true) * square_pred + (y_true) * margin_square\n",
        "    )\n",
        "\n",
        "  return constrastive_loss"
      ],
      "metadata": {
        "id": "0T11DQz6wmXh"
      },
      "execution_count": 16,
      "outputs": []
    },
    {
      "cell_type": "markdown",
      "source": [
        "### Compile the model with the contrastive loss"
      ],
      "metadata": {
        "id": "SlBqqD_B0lFW"
      }
    },
    {
      "cell_type": "code",
      "source": [
        "siamese.compile(loss=loss(margin=margin),\n",
        "                optimizer=\"RMSprop\",\n",
        "                metrics=[\"accuracy\"])\n",
        "siamese.summary()"
      ],
      "metadata": {
        "colab": {
          "base_uri": "https://localhost:8080/"
        },
        "id": "ufQqcn7AzR46",
        "outputId": "3417b455-79cb-4752-8b1f-efa9f21cf876"
      },
      "execution_count": 17,
      "outputs": [
        {
          "output_type": "stream",
          "name": "stdout",
          "text": [
            "Model: \"model_1\"\n",
            "__________________________________________________________________________________________________\n",
            " Layer (type)                   Output Shape         Param #     Connected to                     \n",
            "==================================================================================================\n",
            " input_2 (InputLayer)           [(None, 28, 28, 1)]  0           []                               \n",
            "                                                                                                  \n",
            " input_3 (InputLayer)           [(None, 28, 28, 1)]  0           []                               \n",
            "                                                                                                  \n",
            " model (Functional)             (None, 10)           5318        ['input_2[0][0]',                \n",
            "                                                                  'input_3[0][0]']                \n",
            "                                                                                                  \n",
            " lambda (Lambda)                (None, 1)            0           ['model[0][0]',                  \n",
            "                                                                  'model[1][0]']                  \n",
            "                                                                                                  \n",
            " batch_normalization_2 (BatchNo  (None, 1)           4           ['lambda[0][0]']                 \n",
            " rmalization)                                                                                     \n",
            "                                                                                                  \n",
            " dense_1 (Dense)                (None, 1)            2           ['batch_normalization_2[0][0]']  \n",
            "                                                                                                  \n",
            "==================================================================================================\n",
            "Total params: 5,324\n",
            "Trainable params: 4,808\n",
            "Non-trainable params: 516\n",
            "__________________________________________________________________________________________________\n"
          ]
        }
      ]
    },
    {
      "cell_type": "markdown",
      "source": [
        "### Train the model"
      ],
      "metadata": {
        "id": "5isrnwCh03f-"
      }
    },
    {
      "cell_type": "code",
      "source": [
        "history = siamese.fit(\n",
        "    [x_train_1, x_train_2],\n",
        "    labels_train,\n",
        "    validation_data=([x_val_1, x_val_2], labels_val),\n",
        "    batch_size=batch_size,\n",
        "    epochs=epochs\n",
        ")"
      ],
      "metadata": {
        "colab": {
          "base_uri": "https://localhost:8080/"
        },
        "id": "Jg6i42R601ZD",
        "outputId": "b021909e-4bbd-4bbc-b2a4-bc04b1f7ce47"
      },
      "execution_count": 18,
      "outputs": [
        {
          "output_type": "stream",
          "name": "stdout",
          "text": [
            "Epoch 1/10\n",
            "3750/3750 [==============================] - 38s 7ms/step - loss: 0.1109 - accuracy: 0.8543 - val_loss: 0.0384 - val_accuracy: 0.9509\n",
            "Epoch 2/10\n",
            "3750/3750 [==============================] - 25s 7ms/step - loss: 0.0541 - accuracy: 0.9284 - val_loss: 0.0268 - val_accuracy: 0.9657\n",
            "Epoch 3/10\n",
            "3750/3750 [==============================] - 25s 7ms/step - loss: 0.0446 - accuracy: 0.9421 - val_loss: 0.0213 - val_accuracy: 0.9731\n",
            "Epoch 4/10\n",
            "3750/3750 [==============================] - 25s 7ms/step - loss: 0.0393 - accuracy: 0.9489 - val_loss: 0.0195 - val_accuracy: 0.9747\n",
            "Epoch 5/10\n",
            "3750/3750 [==============================] - 25s 7ms/step - loss: 0.0359 - accuracy: 0.9539 - val_loss: 0.0175 - val_accuracy: 0.9773\n",
            "Epoch 6/10\n",
            "3750/3750 [==============================] - 25s 7ms/step - loss: 0.0337 - accuracy: 0.9563 - val_loss: 0.0170 - val_accuracy: 0.9781\n",
            "Epoch 7/10\n",
            "3750/3750 [==============================] - 25s 7ms/step - loss: 0.0330 - accuracy: 0.9575 - val_loss: 0.0163 - val_accuracy: 0.9790\n",
            "Epoch 8/10\n",
            "3750/3750 [==============================] - 25s 7ms/step - loss: 0.0312 - accuracy: 0.9603 - val_loss: 0.0158 - val_accuracy: 0.9795\n",
            "Epoch 9/10\n",
            "3750/3750 [==============================] - 25s 7ms/step - loss: 0.0306 - accuracy: 0.9607 - val_loss: 0.0145 - val_accuracy: 0.9814\n",
            "Epoch 10/10\n",
            "3750/3750 [==============================] - 25s 7ms/step - loss: 0.0292 - accuracy: 0.9624 - val_loss: 0.0155 - val_accuracy: 0.9801\n"
          ]
        }
      ]
    },
    {
      "cell_type": "markdown",
      "source": [
        "### Visulize the results"
      ],
      "metadata": {
        "id": "s4pBrxXE1Qo5"
      }
    },
    {
      "cell_type": "code",
      "source": [
        "def plt_metric(history, metric, title, has_valid=True):\n",
        "  \"\"\"Plot the given 'metric' from history\n",
        "\n",
        "  Arguments:\n",
        "    history: history attribute if History object returned from Model fit.\n",
        "    metrics: Metrics to plot, a string value present as key in history\n",
        "    title: A string to be used as title of plot\n",
        "    has_valid: Boolean, true if valid data was passed to model.fit else false.\n",
        "\n",
        "  Returns:\n",
        "    None.\n",
        "  \"\"\"\n",
        "  plt.plot(history[metric])\n",
        "  if has_valid:\n",
        "    plt.plot(history[\"val_\" + metric])\n",
        "    plt.legend([\"train\", \"validation\"], loc=\"upper left\")\n",
        "\n",
        "  plt.title(title)\n",
        "  plt.ylabel(metric)\n",
        "  plt.xlabel(\"epoch\")\n",
        "  plt.show()\n",
        "\n",
        "# Plot the accuracy\n",
        "plt_metric(history=history.history, metric=\"accuracy\", title=\"Model accuracy\")\n",
        "\n",
        "# Plot the constrastive loss\n",
        "plt_metric(history=history.history, metric=\"loss\", title=\"Constrastive Loss\")\n"
      ],
      "metadata": {
        "colab": {
          "base_uri": "https://localhost:8080/",
          "height": 573
        },
        "id": "9HTdnp7Z1OwU",
        "outputId": "b908134f-d139-4915-b017-e0b6fd1ad958"
      },
      "execution_count": 20,
      "outputs": [
        {
          "output_type": "display_data",
          "data": {
            "text/plain": [
              "<Figure size 432x288 with 1 Axes>"
            ],
            "image/png": "[encoded data removed]"
          },
          "metadata": {
            "needs_background": "light"
          }
        },
        {
          "output_type": "display_data",
          "data": {
            "text/plain": [
              "<Figure size 432x288 with 1 Axes>"
            ],
            "image/png": "[encoded data removed]"
          },
          "metadata": {
            "needs_background": "light"
          }
        }
      ]
    },
    {
      "cell_type": "markdown",
      "source": [
        "###Evaluate the model"
      ],
      "metadata": {
        "id": "Ad4l69RY25J7"
      }
    },
    {
      "cell_type": "code",
      "source": [
        "results = siamese.evaluate([x_test_1, x_test_2], labels_test)\n",
        "print(\"test loss, test acc:\", results)"
      ],
      "metadata": {
        "colab": {
          "base_uri": "https://localhost:8080/"
        },
        "id": "rJoA5CzD2uqT",
        "outputId": "19a6909a-3cd3-4368-934d-0824811f1007"
      },
      "execution_count": 21,
      "outputs": [
        {
          "output_type": "stream",
          "name": "stdout",
          "text": [
            "625/625 [==============================] - 2s 3ms/step - loss: 0.0116 - accuracy: 0.9850\n",
            "test loss, test acc: [0.011630297638475895, 0.9849500060081482]\n"
          ]
        }
      ]
    },
    {
      "cell_type": "markdown",
      "source": [
        "# Visualize the predictions"
      ],
      "metadata": {
        "id": "nou9It7M3JOY"
      }
    },
    {
      "cell_type": "code",
      "source": [
        "predictions = siamese.predict([x_test_1, x_test_2])\n",
        "visulize(pairs_test, labels_test, to_show=3, predictions=predictions, test=True)"
      ],
      "metadata": {
        "colab": {
          "base_uri": "https://localhost:8080/",
          "height": 124
        },
        "id": "Md3QrTub3Lzn",
        "outputId": "516a6587-5884-4d78-d694-189af40dec7f"
      },
      "execution_count": 27,
      "outputs": [
        {
          "output_type": "display_data",
          "data": {
            "text/plain": [
              "<Figure size 360x360 with 3 Axes>"
            ],
            "image/png": "[encoded data removed]"
          },
          "metadata": {
            "needs_background": "light"
          }
        }
      ]
    },
    {
      "cell_type": "code",
      "source": [
        ""
      ],
      "metadata": {
        "id": "WlyiVWecB3Fj"
      },
      "execution_count": null,
      "outputs": []
    }
  ]
}